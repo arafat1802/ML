{
 "cells": [
  {
   "cell_type": "code",
   "execution_count": 3,
   "metadata": {},
   "outputs": [],
   "source": [
    "import pandas as pd"
   ]
  },
  {
   "cell_type": "code",
   "execution_count": 2,
   "metadata": {},
   "outputs": [],
   "source": [
    "data = {\n",
    "    'Name' : ['Arafat', 'Sakib', 'Rahat', 'Anindita'],\n",
    "    'Age'  : [10,20,30,40],\n",
    "    'City' : ['Dhaka', 'Rajshahi', 'Barishal', 'Khulna']\n",
    "}"
   ]
  },
  {
   "cell_type": "code",
   "execution_count": 4,
   "metadata": {},
   "outputs": [
    {
     "name": "stdout",
     "output_type": "stream",
     "text": [
      "Created Dataframe\n",
      "       Name  Age      City\n",
      "0    Arafat   10     Dhaka\n",
      "1     Sakib   20  Rajshahi\n",
      "2     Rahat   30  Barishal\n",
      "3  Anindita   40    Khulna\n"
     ]
    }
   ],
   "source": [
    "df = pd.DataFrame(data)\n",
    "print(\"Created Dataframe\")\n",
    "print(df)"
   ]
  },
  {
   "cell_type": "markdown",
   "metadata": {},
   "source": [
    "import data to csv"
   ]
  },
  {
   "cell_type": "code",
   "execution_count": 5,
   "metadata": {},
   "outputs": [],
   "source": [
    "df.to_csv('file1.csv')"
   ]
  },
  {
   "cell_type": "code",
   "execution_count": 6,
   "metadata": {},
   "outputs": [],
   "source": [
    "df.to_excel('file2.xlsx')"
   ]
  },
  {
   "cell_type": "code",
   "execution_count": 7,
   "metadata": {},
   "outputs": [],
   "source": [
    "df.to_json('file3.json')"
   ]
  },
  {
   "cell_type": "markdown",
   "metadata": {},
   "source": [
    "impot data"
   ]
  },
  {
   "cell_type": "code",
   "execution_count": 8,
   "metadata": {},
   "outputs": [
    {
     "name": "stdout",
     "output_type": "stream",
     "text": [
      "   Unnamed: 0      Name  Age      City\n",
      "0           0    Arafat   10     Dhaka\n",
      "1           1     Sakib   20  Rajshahi\n",
      "2           2     Rahat   30  Barishal\n",
      "3           3  Anindita   40    Khulna\n"
     ]
    }
   ],
   "source": [
    "df = pd.read_csv('file1.csv')\n",
    "print(df)"
   ]
  },
  {
   "cell_type": "code",
   "execution_count": 10,
   "metadata": {},
   "outputs": [
    {
     "name": "stdout",
     "output_type": "stream",
     "text": [
      "   Unnamed: 0      Name  Age      City\n",
      "0           0    Arafat   10     Dhaka\n",
      "1           1     Sakib   20  Rajshahi\n",
      "2           2     Rahat   30  Barishal\n",
      "3           3  Anindita   40    Khulna\n"
     ]
    }
   ],
   "source": [
    "df2 = pd.read_excel('file2.xlsx')\n",
    "print(df2)"
   ]
  },
  {
   "cell_type": "code",
   "execution_count": 11,
   "metadata": {},
   "outputs": [
    {
     "name": "stdout",
     "output_type": "stream",
     "text": [
      "       Name  Age      City\n",
      "0    Arafat   10     Dhaka\n",
      "1     Sakib   20  Rajshahi\n",
      "2     Rahat   30  Barishal\n",
      "3  Anindita   40    Khulna\n"
     ]
    }
   ],
   "source": [
    "df3 = pd.read_json('file3.json')\n",
    "print(df3)"
   ]
  }
 ],
 "metadata": {
  "kernelspec": {
   "display_name": "Python 3",
   "language": "python",
   "name": "python3"
  },
  "language_info": {
   "codemirror_mode": {
    "name": "ipython",
    "version": 3
   },
   "file_extension": ".py",
   "mimetype": "text/x-python",
   "name": "python",
   "nbconvert_exporter": "python",
   "pygments_lexer": "ipython3",
   "version": "3.10.12"
  }
 },
 "nbformat": 4,
 "nbformat_minor": 2
}
